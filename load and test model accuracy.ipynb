{
 "cells": [
  {
   "cell_type": "code",
   "execution_count": 1,
   "metadata": {},
   "outputs": [],
   "source": [
    "from utils_df import *\n",
    "from tqdm.auto import tqdm"
   ]
  },
  {
   "cell_type": "code",
   "execution_count": 2,
   "metadata": {},
   "outputs": [],
   "source": [
    "def test_acc(testloader,model):\n",
    "    correct = 0\n",
    "    total = 0\n",
    "    with torch.no_grad():\n",
    "        for idx, (inputs, targets) in tqdm(enumerate(testloader)):\n",
    "        # for _, (inputs, targets) in (enumerate(testloader)):\n",
    "            inputs, targets = inputs.cuda(), targets.cuda()\n",
    "            outputs = model(inputs)\n",
    "            _, predicted = outputs.max(1)\n",
    "            total += inputs.shape[0]\n",
    "            correct += predicted.eq(targets).sum().item()\n",
    "\n",
    "            if idx%10 ==0:\n",
    "               print('idx = {}; acc ={}'.format(idx,100.0 * correct / total))\n",
    "\n",
    "    acc = 100.0 * correct / total\n",
    "    return acc"
   ]
  },
  {
   "cell_type": "markdown",
   "metadata": {},
   "source": [
    "### Load dataset"
   ]
  },
  {
   "cell_type": "code",
   "execution_count": 20,
   "metadata": {},
   "outputs": [
    {
     "name": "stdout",
     "output_type": "stream",
     "text": [
      "=> M1: Load data successfully !!!\n"
     ]
    }
   ],
   "source": [
    "batch_size = 128\n",
    "dataset = 'mnist'\n",
    "# dataset ='cifar10'\n",
    "# dataset ='stl10'\n",
    "# ========== M1: Load data =========== \n",
    "testloader, testset = load_data(dataset,batch_size=batch_size)\n",
    "print('=> M1: Load data successfully !!!')\n",
    "\n",
    "device = 'cuda:0' if torch.cuda.is_available() else 'cpu'"
   ]
  },
  {
   "cell_type": "markdown",
   "metadata": {},
   "source": [
    "### Load single models"
   ]
  },
  {
   "cell_type": "code",
   "execution_count": 11,
   "metadata": {},
   "outputs": [
    {
     "name": "stdout",
     "output_type": "stream",
     "text": [
      "=> M2: Load model successfully !!!\n"
     ]
    },
    {
     "name": "stderr",
     "output_type": "stream",
     "text": [
      "/opt/anaconda3/envs/bb_game/lib/python3.9/site-packages/torchvision/models/_utils.py:208: UserWarning: The parameter 'pretrained' is deprecated since 0.13 and may be removed in the future, please use 'weights' instead.\n",
      "  warnings.warn(\n",
      "/opt/anaconda3/envs/bb_game/lib/python3.9/site-packages/torchvision/models/_utils.py:223: UserWarning: Arguments other than a weight enum or `None` for 'weights' are deprecated since 0.13 and may be removed in the future. The current behavior is equivalent to passing `weights=None`.\n",
      "  warnings.warn(msg)\n"
     ]
    }
   ],
   "source": [
    "# ========== M2: Load model and draft it =========== \n",
    "num_particles = 1\n",
    "model = load_model(dataset, num_particles, device)\n",
    "print('=> M2: Load model successfully !!!')"
   ]
  },
  {
   "cell_type": "code",
   "execution_count": 6,
   "metadata": {},
   "outputs": [
    {
     "data": {
      "application/vnd.jupyter.widget-view+json": {
       "model_id": "32a2bf3ef19b4956aea512af41217c16",
       "version_major": 2,
       "version_minor": 0
      },
      "text/plain": [
       "0it [00:00, ?it/s]"
      ]
     },
     "metadata": {},
     "output_type": "display_data"
    },
    {
     "name": "stdout",
     "output_type": "stream",
     "text": [
      "idx = 0; acc =100.0\n",
      "idx = 10; acc =99.28977272727273\n",
      "idx = 20; acc =99.25595238095238\n",
      "idx = 30; acc =99.34475806451613\n",
      "idx = 40; acc =99.44740853658537\n",
      "idx = 50; acc =99.52512254901961\n",
      "idx = 60; acc =99.56454918032787\n",
      "idx = 70; acc =99.61487676056338\n",
      "mnist - Test acc: 99.63\n"
     ]
    }
   ],
   "source": [
    "acc=test_acc(testloader,model)\n",
    "print('{} - Test acc: {}'.format(dataset,acc))"
   ]
  },
  {
   "cell_type": "code",
   "execution_count": 9,
   "metadata": {},
   "outputs": [
    {
     "data": {
      "application/vnd.jupyter.widget-view+json": {
       "model_id": "f8cd224b20b74908826afabaa953bb60",
       "version_major": 2,
       "version_minor": 0
      },
      "text/plain": [
       "0it [00:00, ?it/s]"
      ]
     },
     "metadata": {},
     "output_type": "display_data"
    },
    {
     "name": "stdout",
     "output_type": "stream",
     "text": [
      "idx = 0; acc =95.3125\n",
      "idx = 10; acc =91.47727272727273\n",
      "idx = 20; acc =91.2202380952381\n",
      "idx = 30; acc =91.78427419354838\n",
      "idx = 40; acc =91.97789634146342\n",
      "idx = 50; acc =92.06495098039215\n",
      "idx = 60; acc =92.05942622950819\n",
      "idx = 70; acc =91.92341549295774\n",
      "cifar10 - Test acc: 92.09\n"
     ]
    }
   ],
   "source": [
    "acc=test_acc(testloader,model)\n",
    "print('{} - Test acc: {}'.format(dataset,acc))"
   ]
  },
  {
   "cell_type": "code",
   "execution_count": 12,
   "metadata": {},
   "outputs": [
    {
     "data": {
      "application/vnd.jupyter.widget-view+json": {
       "model_id": "13fdbc6f74264d90b1f6f9aaabb2c270",
       "version_major": 2,
       "version_minor": 0
      },
      "text/plain": [
       "0it [00:00, ?it/s]"
      ]
     },
     "metadata": {},
     "output_type": "display_data"
    },
    {
     "name": "stdout",
     "output_type": "stream",
     "text": [
      "idx = 0; acc =89.84375\n",
      "idx = 10; acc =89.98579545454545\n",
      "idx = 20; acc =90.25297619047619\n",
      "idx = 30; acc =90.49899193548387\n",
      "idx = 40; acc =90.30106707317073\n",
      "idx = 50; acc =90.19607843137256\n",
      "idx = 60; acc =90.31762295081967\n",
      "stl10 - Test acc: 90.3875\n"
     ]
    }
   ],
   "source": [
    "acc=test_acc(testloader,model)\n",
    "print('{} - Test acc: {}'.format(dataset,acc))"
   ]
  },
  {
   "cell_type": "markdown",
   "metadata": {},
   "source": [
    "### Load model sets (trained with SVGD+)"
   ]
  },
  {
   "cell_type": "code",
   "execution_count": 21,
   "metadata": {},
   "outputs": [
    {
     "name": "stdout",
     "output_type": "stream",
     "text": [
      "=> M2: Load model successfully !!!\n"
     ]
    }
   ],
   "source": [
    "# ========== M2: Load model and draft it =========== \n",
    "if dataset == 'mnist':\n",
    "    num_particles = 40\n",
    "elif dataset in ['cifar10','stl10']:\n",
    "    num_particles = 10\n",
    "\n",
    "net = load_model(dataset, num_particles, device)\n",
    "print('=> M2: Load model successfully !!!')"
   ]
  },
  {
   "cell_type": "code",
   "execution_count": 22,
   "metadata": {},
   "outputs": [
    {
     "data": {
      "application/vnd.jupyter.widget-view+json": {
       "model_id": "725e53ba68b04f4da24e7e46d64564b8",
       "version_major": 2,
       "version_minor": 0
      },
      "text/plain": [
       "0it [00:00, ?it/s]"
      ]
     },
     "metadata": {},
     "output_type": "display_data"
    },
    {
     "name": "stdout",
     "output_type": "stream",
     "text": [
      "idx = 0; acc =100.0\n",
      "idx = 10; acc =99.36079545454545\n",
      "idx = 20; acc =99.21875\n",
      "idx = 30; acc =99.39516129032258\n",
      "idx = 40; acc =99.46646341463415\n",
      "idx = 50; acc =99.52512254901961\n",
      "idx = 60; acc =99.55174180327869\n",
      "idx = 70; acc =99.61487676056338\n",
      "mnist - Test acc: 99.59\n"
     ]
    }
   ],
   "source": [
    "threat_model = 'score-based'\n",
    "mwargs = {'threat_model':threat_model,'pred_mode':'full'} #'random'\n",
    "model = PretrainedModel(net,dataset,**mwargs)\n",
    "acc=test_acc(testloader,model)\n",
    "print('{} - Test acc: {}'.format(dataset,acc))"
   ]
  },
  {
   "cell_type": "code",
   "execution_count": 19,
   "metadata": {},
   "outputs": [
    {
     "data": {
      "application/vnd.jupyter.widget-view+json": {
       "model_id": "5b4711d4a83d434ca1cb79b4c456300f",
       "version_major": 2,
       "version_minor": 0
      },
      "text/plain": [
       "0it [00:00, ?it/s]"
      ]
     },
     "metadata": {},
     "output_type": "display_data"
    },
    {
     "name": "stdout",
     "output_type": "stream",
     "text": [
      "idx = 0; acc =96.875\n",
      "idx = 10; acc =94.38920454545455\n",
      "idx = 20; acc =92.93154761904762\n",
      "idx = 30; acc =92.79233870967742\n",
      "idx = 40; acc =93.00685975609755\n",
      "idx = 50; acc =93.22916666666667\n",
      "idx = 60; acc =93.12243852459017\n",
      "idx = 70; acc =93.14480633802818\n",
      "cifar10 - Test acc: 93.19\n"
     ]
    }
   ],
   "source": [
    "threat_model = 'score-based'\n",
    "mwargs = {'threat_model':threat_model,'pred_mode':'full'} #'random'\n",
    "model = PretrainedModel(net,dataset,**mwargs)\n",
    "acc=test_acc(testloader,model)\n",
    "print('{} - Test acc: {}'.format(dataset,acc))"
   ]
  },
  {
   "cell_type": "code",
   "execution_count": 14,
   "metadata": {},
   "outputs": [
    {
     "data": {
      "application/vnd.jupyter.widget-view+json": {
       "model_id": "d97be0f80a5d45089f2d6bf08f145e67",
       "version_major": 2,
       "version_minor": 0
      },
      "text/plain": [
       "0it [00:00, ?it/s]"
      ]
     },
     "metadata": {},
     "output_type": "display_data"
    },
    {
     "name": "stdout",
     "output_type": "stream",
     "text": [
      "idx = 0; acc =89.0625\n",
      "idx = 10; acc =90.3409090909091\n",
      "idx = 20; acc =90.36458333333333\n",
      "idx = 30; acc =90.59979838709677\n",
      "idx = 40; acc =90.35823170731707\n",
      "idx = 50; acc =90.24203431372548\n",
      "idx = 60; acc =90.21516393442623\n",
      "stl10 - Test acc: 90.1875\n"
     ]
    }
   ],
   "source": [
    "threat_model = 'score-based'\n",
    "mwargs = {'threat_model':threat_model,'pred_mode':'full'} #'random'\n",
    "model = PretrainedModel(net,dataset,**mwargs)\n",
    "acc=test_acc(testloader,model)\n",
    "print('{} - Test acc: {}'.format(dataset,acc))"
   ]
  }
 ],
 "metadata": {
  "kernelspec": {
   "display_name": "bb_game",
   "language": "python",
   "name": "python3"
  },
  "language_info": {
   "codemirror_mode": {
    "name": "ipython",
    "version": 3
   },
   "file_extension": ".py",
   "mimetype": "text/x-python",
   "name": "python",
   "nbconvert_exporter": "python",
   "pygments_lexer": "ipython3",
   "version": "3.9.16"
  }
 },
 "nbformat": 4,
 "nbformat_minor": 2
}
