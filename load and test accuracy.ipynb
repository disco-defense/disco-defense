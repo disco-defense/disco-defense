{
 "cells": [
  {
   "cell_type": "code",
   "execution_count": 1,
   "metadata": {},
   "outputs": [],
   "source": [
    "from utils_df import *\n",
    "from tqdm.auto import tqdm"
   ]
  },
  {
   "cell_type": "code",
   "execution_count": 7,
   "metadata": {},
   "outputs": [
    {
     "name": "stdout",
     "output_type": "stream",
     "text": [
      "Files already downloaded and verified\n",
      "=> M1: Load data successfully !!!\n"
     ]
    },
    {
     "name": "stderr",
     "output_type": "stream",
     "text": [
      "/opt/anaconda3/envs/bb_game/lib/python3.9/site-packages/torchvision/models/_utils.py:208: UserWarning: The parameter 'pretrained' is deprecated since 0.13 and may be removed in the future, please use 'weights' instead.\n",
      "  warnings.warn(\n",
      "/opt/anaconda3/envs/bb_game/lib/python3.9/site-packages/torchvision/models/_utils.py:223: UserWarning: Arguments other than a weight enum or `None` for 'weights' are deprecated since 0.13 and may be removed in the future. The current behavior is equivalent to passing `weights=None`.\n",
      "  warnings.warn(msg)\n"
     ]
    },
    {
     "name": "stdout",
     "output_type": "stream",
     "text": [
      "best acc = 90.0375, at epoch = 962\n",
      "=> M2: Load model successfully !!!\n"
     ]
    }
   ],
   "source": [
    "batch_size = 128\n",
    "# dataset = 'mnist'#\n",
    "# num_particles = 40 #mnist\n",
    "\n",
    "# dataset ='cifar10'\n",
    "# num_particles = 10 # cifar10, stl10\n",
    "\n",
    "dataset ='stl10'\n",
    "num_particles = 10 #stl10\n",
    "# ========== M1: Load data =========== \n",
    "testloader, testset = load_data(dataset,batch_size=batch_size)\n",
    "print('=> M1: Load data successfully !!!')\n",
    "\n",
    "# ========== M2: Load model and draft it =========== \n",
    "net = load_model(dataset, num_particles)\n",
    "print('=> M2: Load model successfully !!!')"
   ]
  },
  {
   "cell_type": "code",
   "execution_count": 3,
   "metadata": {},
   "outputs": [],
   "source": [
    "def test_acc(testloader,model):\n",
    "    correct = 0\n",
    "    total = 0\n",
    "    with torch.no_grad():\n",
    "        for idx, (inputs, targets) in tqdm(enumerate(testloader)):\n",
    "        # for _, (inputs, targets) in (enumerate(testloader)):\n",
    "            inputs, targets = inputs.cuda(), targets.cuda()\n",
    "            outputs = model(inputs)\n",
    "            _, predicted = outputs.max(1)\n",
    "            total += inputs.shape[0]\n",
    "            correct += predicted.eq(targets).sum().item()\n",
    "\n",
    "            if idx%10 ==0:\n",
    "               print('idx = {}; acc ={}'.format(idx,100.0 * correct / total))\n",
    "\n",
    "    acc = 100.0 * correct / total\n",
    "    return acc"
   ]
  },
  {
   "cell_type": "code",
   "execution_count": 4,
   "metadata": {},
   "outputs": [
    {
     "data": {
      "application/vnd.jupyter.widget-view+json": {
       "model_id": "7d747a0916c54bc981b81cdceb67fc1d",
       "version_major": 2,
       "version_minor": 0
      },
      "text/plain": [
       "0it [00:00, ?it/s]"
      ]
     },
     "metadata": {},
     "output_type": "display_data"
    },
    {
     "name": "stdout",
     "output_type": "stream",
     "text": [
      "idx = 0; acc =100.0\n",
      "idx = 10; acc =99.36079545454545\n",
      "idx = 20; acc =99.21875\n",
      "idx = 30; acc =99.39516129032258\n",
      "idx = 40; acc =99.46646341463415\n",
      "idx = 50; acc =99.52512254901961\n",
      "idx = 60; acc =99.55174180327869\n",
      "idx = 70; acc =99.61487676056338\n",
      "mnist - Test acc: 99.59\n"
     ]
    }
   ],
   "source": [
    "threat_model = 'score-based'\n",
    "mwargs = {'threat_model':threat_model,'pred_mode':'full'} #'random'\n",
    "model = PretrainedModel(net,dataset,**mwargs)\n",
    "acc=test_acc(testloader,model)\n",
    "print('{} - Test acc: {}'.format(dataset,acc))"
   ]
  },
  {
   "cell_type": "code",
   "execution_count": 6,
   "metadata": {},
   "outputs": [
    {
     "data": {
      "application/vnd.jupyter.widget-view+json": {
       "model_id": "b3c7b138cbbf42f38e202838b4612bd3",
       "version_major": 2,
       "version_minor": 0
      },
      "text/plain": [
       "0it [00:00, ?it/s]"
      ]
     },
     "metadata": {},
     "output_type": "display_data"
    },
    {
     "name": "stdout",
     "output_type": "stream",
     "text": [
      "idx = 0; acc =96.875\n",
      "idx = 10; acc =94.38920454545455\n",
      "idx = 20; acc =92.93154761904762\n",
      "idx = 30; acc =92.79233870967742\n",
      "idx = 40; acc =93.00685975609755\n",
      "idx = 50; acc =93.22916666666667\n",
      "idx = 60; acc =93.12243852459017\n",
      "idx = 70; acc =93.14480633802818\n",
      "cifar10 - Test acc: 93.19\n"
     ]
    }
   ],
   "source": [
    "threat_model = 'score-based'\n",
    "mwargs = {'threat_model':threat_model,'pred_mode':'full'} #'random'\n",
    "model = PretrainedModel(net,dataset,**mwargs)\n",
    "acc=test_acc(testloader,model)\n",
    "print('{} - Test acc: {}'.format(dataset,acc))"
   ]
  },
  {
   "cell_type": "code",
   "execution_count": 8,
   "metadata": {},
   "outputs": [
    {
     "data": {
      "application/vnd.jupyter.widget-view+json": {
       "model_id": "84fbf6a14baf41239b1a2c2ab1f05111",
       "version_major": 2,
       "version_minor": 0
      },
      "text/plain": [
       "0it [00:00, ?it/s]"
      ]
     },
     "metadata": {},
     "output_type": "display_data"
    },
    {
     "name": "stdout",
     "output_type": "stream",
     "text": [
      "idx = 0; acc =89.0625\n",
      "idx = 10; acc =90.3409090909091\n",
      "idx = 20; acc =90.36458333333333\n",
      "idx = 30; acc =90.59979838709677\n",
      "idx = 40; acc =90.35823170731707\n",
      "idx = 50; acc =90.24203431372548\n",
      "idx = 60; acc =90.21516393442623\n",
      "stl10 - Test acc: 90.1875\n"
     ]
    }
   ],
   "source": [
    "threat_model = 'score-based'\n",
    "mwargs = {'threat_model':threat_model,'pred_mode':'full'} #'random'\n",
    "model = PretrainedModel(net,dataset,**mwargs)\n",
    "acc=test_acc(testloader,model)\n",
    "print('{} - Test acc: {}'.format(dataset,acc))"
   ]
  }
 ],
 "metadata": {
  "kernelspec": {
   "display_name": "bb_game",
   "language": "python",
   "name": "python3"
  },
  "language_info": {
   "codemirror_mode": {
    "name": "ipython",
    "version": 3
   },
   "file_extension": ".py",
   "mimetype": "text/x-python",
   "name": "python",
   "nbconvert_exporter": "python",
   "pygments_lexer": "ipython3",
   "version": "3.9.16"
  }
 },
 "nbformat": 4,
 "nbformat_minor": 2
}
